{
 "cells": [
  {
   "cell_type": "markdown",
   "metadata": {},
   "source": [
    "# Example Notebook for Network Visualization"
   ]
  },
  {
   "cell_type": "markdown",
   "metadata": {},
   "source": [
    "### Change working directory to this root"
   ]
  },
  {
   "cell_type": "code",
   "execution_count": null,
   "metadata": {},
   "outputs": [],
   "source": [
    "import os\n",
    "os.chdir(\"..\")"
   ]
  },
  {
   "cell_type": "markdown",
   "metadata": {},
   "source": [
    "### Imports"
   ]
  },
  {
   "cell_type": "code",
   "execution_count": null,
   "metadata": {},
   "outputs": [],
   "source": [
    "import torch\n",
    "import torch.nn.functional as F\n",
    "import matplotlib.pyplot as plt\n",
    "import hydra\n",
    "\n",
    "from models.base import load_inner_model_state_dict"
   ]
  },
  {
   "cell_type": "markdown",
   "metadata": {},
   "source": [
    "### Load model"
   ]
  },
  {
   "cell_type": "code",
   "execution_count": null,
   "metadata": {},
   "outputs": [],
   "source": [
    "# Infer device\n",
    "device = \"cuda\" if torch.cuda.is_available() else \"cpu\"\n",
    "print(f\"Current device is {device}\")\n",
    "\n",
    "# Load network\n",
    "with hydra.initialize(version_base=None, config_path=\"../config\"):\n",
    "    cfg = hydra.compose(config_name=\"config\")\n",
    "cfg.learning.batch_size = 128\n",
    "weights_path = \"saved/mnist_fcn.ckpt\"\n",
    "model = hydra.utils.instantiate(cfg.module)\n",
    "model = load_inner_model_state_dict(model, weights_path).to(device).eval()"
   ]
  },
  {
   "cell_type": "markdown",
   "metadata": {},
   "source": [
    "### Load data loader"
   ]
  },
  {
   "cell_type": "code",
   "execution_count": null,
   "metadata": {},
   "outputs": [],
   "source": [
    "data_module = hydra.utils.instantiate(cfg.data)\n",
    "data_module.setup(\"val\")\n",
    "loader = data_module.val_dataloader()"
   ]
  },
  {
   "cell_type": "markdown",
   "metadata": {},
   "source": [
    "### Load data point and visualize it"
   ]
  },
  {
   "cell_type": "code",
   "execution_count": null,
   "metadata": {},
   "outputs": [],
   "source": [
    "for batch in loader:\n",
    "    images: torch.Tensor = batch[\"images\"]\n",
    "    break\n",
    "image_reshaped = images.cpu().numpy() # type: ignore\n",
    "\n",
    "n_rows = 8\n",
    "n_cols = 16\n",
    "\n",
    "# Create a figure and subplots\n",
    "fig, axes = plt.subplots(n_rows, n_cols, figsize=(12, 8))\n",
    "fig.suptitle('Data sample', fontsize=16)\n",
    "\n",
    "for i in range(n_rows):\n",
    "    for j in range(n_cols):\n",
    "        index = i * n_cols + j\n",
    "        if index < n_rows * n_cols:\n",
    "            ax = axes[i, j]\n",
    "            ax.axis('off')\n",
    "            ax.imshow(image_reshaped[index, 0, ...])\n",
    "\n",
    "plt.tight_layout()\n",
    "plt.show()"
   ]
  },
  {
   "cell_type": "markdown",
   "metadata": {},
   "source": [
    "## Inference\n",
    "\n",
    "### Perform inference"
   ]
  },
  {
   "cell_type": "code",
   "execution_count": null,
   "metadata": {},
   "outputs": [],
   "source": [
    "batch = {key: value.to(device) for (key, value) in batch.items() if isinstance(value, torch.Tensor)}\n",
    "with torch.no_grad():\n",
    "    outputs = model.forward(batch)\n",
    "logits = outputs[\"logits\"]\n",
    "\n",
    "n_rows = 8\n",
    "n_cols = 16\n",
    "size_factor = 2\n",
    "\n",
    "# Create a figure and subplots\n",
    "fig, axes = plt.subplots(n_rows, n_cols, figsize=(n_cols * size_factor, n_rows * (size_factor + 0.5)))\n",
    "fig.suptitle('Classification results', fontsize=32)\n",
    "\n",
    "for i in range(n_rows):\n",
    "    for j in range(n_cols):\n",
    "        index = i * n_cols + j\n",
    "        if index < n_rows * n_cols:\n",
    "            ax = axes[i, j]\n",
    "            ax.axis('off')\n",
    "            ax.imshow(image_reshaped[index, 0, ...])\n",
    "            \n",
    "            \n",
    "            # Calculate chance and show it in green if class is correct\n",
    "            highest_prob_class = logits[index].argmax()\n",
    "            highest_prob = F.softmax(logits[index], dim=0).max()\n",
    "            title_color = 'green' if highest_prob_class == batch[\"class\"][index] else 'red'\n",
    "            \n",
    "            ax.set_title(f'Class: {highest_prob_class}\\nProb: {highest_prob:.3f}', fontsize=18, color=title_color)\n",
    "            \n",
    "plt.show()"
   ]
  }
 ],
 "metadata": {
  "kernelspec": {
   "display_name": "IHDF",
   "language": "python",
   "name": "python3"
  },
  "language_info": {
   "codemirror_mode": {
    "name": "ipython",
    "version": 3
   },
   "file_extension": ".py",
   "mimetype": "text/x-python",
   "name": "python",
   "nbconvert_exporter": "python",
   "pygments_lexer": "ipython3",
   "version": "3.11.7"
  }
 },
 "nbformat": 4,
 "nbformat_minor": 2
}
