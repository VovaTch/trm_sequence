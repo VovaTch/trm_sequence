{
 "cells": [
  {
   "cell_type": "markdown",
   "metadata": {},
   "source": [
    "# Example Notebook for Network Visualization"
   ]
  },
  {
   "cell_type": "markdown",
   "metadata": {},
   "source": [
    "### Change working directory to this root"
   ]
  },
  {
   "cell_type": "code",
   "execution_count": 1,
   "metadata": {},
   "outputs": [],
   "source": [
    "import os\n",
    "os.chdir(\"..\")"
   ]
  },
  {
   "cell_type": "markdown",
   "metadata": {},
   "source": [
    "### Imports"
   ]
  },
  {
   "cell_type": "code",
   "execution_count": 2,
   "metadata": {},
   "outputs": [],
   "source": [
    "import torch\n",
    "import torch.nn.functional as F\n",
    "import matplotlib.pyplot as plt\n",
    "import hydra\n",
    "\n",
    "from models.modules.base import load_inner_model_state_dict\n",
    "from models.tokenizers.char import CharLevelTokenizer\n",
    "from models.modules.diffusion_llm import DiffusionLLMLightningModule"
   ]
  },
  {
   "cell_type": "markdown",
   "metadata": {},
   "source": [
    "### Load model"
   ]
  },
  {
   "cell_type": "code",
   "execution_count": 3,
   "metadata": {},
   "outputs": [
    {
     "name": "stdout",
     "output_type": "stream",
     "text": [
      "Current device is cuda\n"
     ]
    },
    {
     "name": "stderr",
     "output_type": "stream",
     "text": [
      "/home/vovatch/code/my/trm_sequence/.venv/lib/python3.12/site-packages/torch/nn/modules/transformer.py:382: UserWarning: enable_nested_tensor is True, but self.use_nested_tensor is False because encoder_layer.norm_first was True\n",
      "  warnings.warn(\n"
     ]
    }
   ],
   "source": [
    "# Infer device\n",
    "device = \"cuda\" if torch.cuda.is_available() else \"cpu\"\n",
    "print(f\"Current device is {device}\")\n",
    "\n",
    "# Load network\n",
    "with hydra.initialize(version_base=None, config_path=\"../config\"):\n",
    "    cfg = hydra.compose(config_name=\"dllm\")\n",
    "cfg.learning.batch_size = 128\n",
    "weights_path = \"weights/dllm.ckpt\"\n",
    "model: DiffusionLLMLightningModule = hydra.utils.instantiate(cfg.module)\n",
    "model = load_inner_model_state_dict(model, weights_path).to(device).eval()"
   ]
  },
  {
   "cell_type": "markdown",
   "metadata": {},
   "source": [
    "### Load data loader"
   ]
  },
  {
   "cell_type": "code",
   "execution_count": 4,
   "metadata": {},
   "outputs": [
    {
     "name": "stderr",
     "output_type": "stream",
     "text": [
      "2025-10-14 21:55:08 - INFO - Loaded mappings from data/tiny_shakespeare/meta.pkl, vocabulary size 65\n",
      "2025-10-14 21:55:08 - INFO - Loaded tokenized data from data/tiny_shakespeare/train.bin\n",
      "2025-10-14 21:55:08 - INFO - Loaded mappings from data/tiny_shakespeare/meta.pkl, vocabulary size 65\n",
      "2025-10-14 21:55:08 - INFO - Loaded tokenized data from data/tiny_shakespeare/val.bin\n",
      "2025-10-14 21:55:08 - INFO - Loaded mappings from data/tiny_shakespeare/meta.pkl, vocabulary size 65\n",
      "2025-10-14 21:55:08 - INFO - Loaded tokenized data from data/tiny_shakespeare/test.bin\n"
     ]
    }
   ],
   "source": [
    "data_module = hydra.utils.instantiate(cfg.data)\n",
    "data_module.setup(\"val\")\n",
    "loader = data_module.val_dataloader()"
   ]
  },
  {
   "cell_type": "markdown",
   "metadata": {},
   "source": [
    "### Load Tokenizer"
   ]
  },
  {
   "cell_type": "code",
   "execution_count": 5,
   "metadata": {},
   "outputs": [
    {
     "name": "stderr",
     "output_type": "stream",
     "text": [
      "2025-10-14 21:55:08 - INFO - Loaded mappings from data/tiny_shakespeare/meta.pkl, vocabulary size 65\n"
     ]
    }
   ],
   "source": [
    "tokenizer = CharLevelTokenizer()"
   ]
  },
  {
   "cell_type": "markdown",
   "metadata": {},
   "source": [
    "## Inference\n",
    "\n",
    "### Perform inference"
   ]
  },
  {
   "cell_type": "code",
   "execution_count": 7,
   "metadata": {},
   "outputs": [
    {
     "ename": "RuntimeError",
     "evalue": "CUDA error: device-side assert triggered\nCUDA kernel errors might be asynchronously reported at some other API call, so the stacktrace below might be incorrect.\nFor debugging consider passing CUDA_LAUNCH_BLOCKING=1\nCompile with `TORCH_USE_CUDA_DSA` to enable device-side assertions.\n",
     "output_type": "error",
     "traceback": [
      "\u001b[31m---------------------------------------------------------------------------\u001b[39m",
      "\u001b[31mRuntimeError\u001b[39m                              Traceback (most recent call last)",
      "\u001b[36mCell\u001b[39m\u001b[36m \u001b[39m\u001b[32mIn[7]\u001b[39m\u001b[32m, line 6\u001b[39m\n\u001b[32m      3\u001b[39m tokenized_text = torch.tensor(tokenized_text).unsqueeze(\u001b[32m0\u001b[39m)\n\u001b[32m      5\u001b[39m \u001b[38;5;28;01mwith\u001b[39;00m torch.no_grad():\n\u001b[32m----> \u001b[39m\u001b[32m6\u001b[39m     generated_tokens = \u001b[43mmodel\u001b[49m\u001b[43m.\u001b[49m\u001b[43mgenerate\u001b[49m\u001b[43m(\u001b[49m\u001b[43minit_tokens\u001b[49m\u001b[43m=\u001b[49m\u001b[43mtokenized_text\u001b[49m\u001b[43m,\u001b[49m\u001b[43m \u001b[49m\u001b[43mseq_len\u001b[49m\u001b[43m=\u001b[49m\u001b[32;43m1024\u001b[39;49m\u001b[43m,\u001b[49m\u001b[43m \u001b[49m\u001b[43mvocab_size\u001b[49m\u001b[43m=\u001b[49m\u001b[32;43m66\u001b[39;49m\u001b[43m)\u001b[49m\n\u001b[32m      7\u001b[39m generated_text = tokenizer.decode(generated_tokens[\u001b[32m0\u001b[39m, ...].cpu().numpy())\n\u001b[32m      9\u001b[39m \u001b[38;5;28mprint\u001b[39m(generated_text)\n",
      "\u001b[36mFile \u001b[39m\u001b[32m~/code/my/trm_sequence/models/modules/diffusion_llm.py:109\u001b[39m, in \u001b[36mDiffusionLLMLightningModule.generate\u001b[39m\u001b[34m(self, init_tokens, init_step, seq_len, vocab_size, temperature)\u001b[39m\n\u001b[32m    103\u001b[39m     \u001b[38;5;28;01mraise\u001b[39;00m \u001b[38;5;167;01mValueError\u001b[39;00m(\u001b[33m\"\u001b[39m\u001b[33mTemperature must be non-negative.\u001b[39m\u001b[33m\"\u001b[39m)\n\u001b[32m    105\u001b[39m num_steps = \u001b[38;5;28mself\u001b[39m._sample_scheduler.num_steps\n\u001b[32m    106\u001b[39m current_tokens = (\n\u001b[32m    107\u001b[39m     torch.cat(\n\u001b[32m    108\u001b[39m         (\n\u001b[32m--> \u001b[39m\u001b[32m109\u001b[39m             \u001b[43minit_tokens\u001b[49m\u001b[43m.\u001b[49m\u001b[43mto\u001b[49m\u001b[43m(\u001b[49m\u001b[38;5;28;43mself\u001b[39;49m\u001b[43m.\u001b[49m\u001b[43m_device\u001b[49m\u001b[43m)\u001b[49m,\n\u001b[32m    110\u001b[39m             torch.zeros(\n\u001b[32m    111\u001b[39m                 (\u001b[32m1\u001b[39m, seq_len - \u001b[38;5;28mlen\u001b[39m(init_tokens)),\n\u001b[32m    112\u001b[39m                 device=\u001b[38;5;28mself\u001b[39m._device,\n\u001b[32m    113\u001b[39m                 dtype=torch.int64,\n\u001b[32m    114\u001b[39m             ),\n\u001b[32m    115\u001b[39m         ),\n\u001b[32m    116\u001b[39m         dim=\u001b[32m1\u001b[39m,\n\u001b[32m    117\u001b[39m     )\n\u001b[32m    118\u001b[39m     \u001b[38;5;28;01mif\u001b[39;00m init_tokens \u001b[38;5;129;01mis\u001b[39;00m \u001b[38;5;129;01mnot\u001b[39;00m \u001b[38;5;28;01mNone\u001b[39;00m\n\u001b[32m    119\u001b[39m     \u001b[38;5;28;01melse\u001b[39;00m torch.zeros((\u001b[32m1\u001b[39m, seq_len), device=\u001b[38;5;28mself\u001b[39m._device, dtype=torch.int64)\n\u001b[32m    120\u001b[39m )\n\u001b[32m    121\u001b[39m current_logits = torch.randn((\u001b[32m1\u001b[39m, seq_len, vocab_size), device=\u001b[38;5;28mself\u001b[39m._device)\n\u001b[32m    122\u001b[39m current_mask = torch.zeros_like(\n\u001b[32m    123\u001b[39m     current_tokens, dtype=torch.bool, device=\u001b[38;5;28mself\u001b[39m._device\n\u001b[32m    124\u001b[39m )\n",
      "\u001b[31mRuntimeError\u001b[39m: CUDA error: device-side assert triggered\nCUDA kernel errors might be asynchronously reported at some other API call, so the stacktrace below might be incorrect.\nFor debugging consider passing CUDA_LAUNCH_BLOCKING=1\nCompile with `TORCH_USE_CUDA_DSA` to enable device-side assertions.\n"
     ]
    }
   ],
   "source": [
    "TEXT = \"What is the meaning of life?\"\n",
    "tokenized_text = tokenizer.encode(TEXT)\n",
    "tokenized_text = torch.tensor(tokenized_text).unsqueeze(0)\n",
    "\n",
    "with torch.no_grad():\n",
    "    generated_tokens = model.generate(init_tokens=tokenized_text, seq_len=1024, vocab_size=66)\n",
    "generated_text = tokenizer.decode(generated_tokens[0, ...].cpu().numpy())\n",
    "\n",
    "print(generated_text)"
   ]
  }
 ],
 "metadata": {
  "kernelspec": {
   "display_name": ".venv",
   "language": "python",
   "name": "python3"
  },
  "language_info": {
   "codemirror_mode": {
    "name": "ipython",
    "version": 3
   },
   "file_extension": ".py",
   "mimetype": "text/x-python",
   "name": "python",
   "nbconvert_exporter": "python",
   "pygments_lexer": "ipython3",
   "version": "3.12.3"
  }
 },
 "nbformat": 4,
 "nbformat_minor": 2
}
