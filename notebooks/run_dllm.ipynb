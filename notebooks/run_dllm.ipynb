{
 "cells": [
  {
   "cell_type": "markdown",
   "metadata": {},
   "source": [
    "# Example Notebook for Network Visualization"
   ]
  },
  {
   "cell_type": "markdown",
   "metadata": {},
   "source": [
    "### Change working directory to this root"
   ]
  },
  {
   "cell_type": "code",
   "execution_count": null,
   "metadata": {},
   "outputs": [],
   "source": [
    "import os\n",
    "os.chdir(\"..\")"
   ]
  },
  {
   "cell_type": "markdown",
   "metadata": {},
   "source": [
    "### Imports"
   ]
  },
  {
   "cell_type": "code",
   "execution_count": null,
   "metadata": {},
   "outputs": [],
   "source": [
    "import torch\n",
    "import hydra\n",
    "import sys\n",
    "\n",
    "from IPython.display import clear_output\n",
    "from models.modules.base import load_inner_model_state_dict\n",
    "from models.tokenizers.char import CharLevelTokenizer\n",
    "from models.modules.diffusion_llm import DiffusionLLMLightningModule"
   ]
  },
  {
   "cell_type": "markdown",
   "metadata": {},
   "source": [
    "### Load model"
   ]
  },
  {
   "cell_type": "code",
   "execution_count": null,
   "metadata": {},
   "outputs": [],
   "source": [
    "# Infer device\n",
    "device = \"cuda\" if torch.cuda.is_available() else \"cpu\"\n",
    "print(f\"Current device is {device}\")\n",
    "\n",
    "# Load network\n",
    "with hydra.initialize(version_base=None, config_path=\"../config\"):\n",
    "    cfg = hydra.compose(config_name=\"dllm\")\n",
    "cfg.learning.batch_size = 128\n",
    "weights_path = \"weights/dllm.ckpt\"\n",
    "model: DiffusionLLMLightningModule = hydra.utils.instantiate(cfg.module)\n",
    "model = load_inner_model_state_dict(model, weights_path).to(device).eval()"
   ]
  },
  {
   "cell_type": "markdown",
   "metadata": {},
   "source": [
    "### Load data loader"
   ]
  },
  {
   "cell_type": "code",
   "execution_count": null,
   "metadata": {},
   "outputs": [],
   "source": [
    "data_module = hydra.utils.instantiate(cfg.data)\n",
    "data_module.setup(\"val\")\n",
    "loader = data_module.val_dataloader()"
   ]
  },
  {
   "cell_type": "markdown",
   "metadata": {},
   "source": [
    "### Load Tokenizer"
   ]
  },
  {
   "cell_type": "code",
   "execution_count": null,
   "metadata": {},
   "outputs": [],
   "source": [
    "tokenizer = CharLevelTokenizer()"
   ]
  },
  {
   "cell_type": "markdown",
   "metadata": {},
   "source": [
    "## Inference\n",
    "\n",
    "### Perform inference"
   ]
  },
  {
   "cell_type": "code",
   "execution_count": null,
   "metadata": {},
   "outputs": [],
   "source": [
    "TEXT = \"What is the meaning of life?\"\n",
    "tokenized_text = tokenizer.encode(TEXT)\n",
    "tokenized_text = torch.tensor(tokenized_text).unsqueeze(0)\n",
    "\n",
    "idx = 0\n",
    "with torch.no_grad():\n",
    "        for generated_tokens in model.stream(init_tokens=tokenized_text, seq_len=256, vocab_size=66, temperature=0.3):\n",
    "            generated_text = tokenizer.decode(generated_tokens.squeeze().cpu().numpy())\n",
    "            idx += 1\n",
    "            print(f\"Cycle: {idx} --- >\")\n",
    "            print(generated_text)\n"
   ]
  }
 ],
 "metadata": {
  "kernelspec": {
   "display_name": "lightning-project-template",
   "language": "python",
   "name": "python3"
  },
  "language_info": {
   "codemirror_mode": {
    "name": "ipython",
    "version": 3
   },
   "file_extension": ".py",
   "mimetype": "text/x-python",
   "name": "python",
   "nbconvert_exporter": "python",
   "pygments_lexer": "ipython3",
   "version": "3.12.10"
  }
 },
 "nbformat": 4,
 "nbformat_minor": 2
}
